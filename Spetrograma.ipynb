{
 "cells": [
  {
   "cell_type": "code",
   "execution_count": 49,
   "id": "controlled-evans",
   "metadata": {},
   "outputs": [],
   "source": [
    "import cv2 as cv\n",
    "import numpy as np"
   ]
  },
  {
   "cell_type": "code",
   "execution_count": 22,
   "id": "bizarre-enlargement",
   "metadata": {},
   "outputs": [],
   "source": [
    "img_original = cv.imread('SpectroTiara.JPG')"
   ]
  },
  {
   "cell_type": "code",
   "execution_count": 61,
   "id": "irish-french",
   "metadata": {},
   "outputs": [
    {
     "data": {
      "text/plain": [
       "True"
      ]
     },
     "execution_count": 61,
     "metadata": {},
     "output_type": "execute_result"
    }
   ],
   "source": [
    "imgAssinatura = np.zeros((50,768,3),np.uint8)\n",
    "cv.putText(imgAssinatura,'Spectrum: Heron TF Gomes',(5,25),cv.FONT_HERSHEY_SCRIPT_SIMPLEX ,1,(190,190,190),1,cv.LINE_AA )\n",
    "cv.putText(imgAssinatura,'20/02/2021',(5,45),cv.FONT_HERSHEY_SCRIPT_SIMPLEX ,0.5,(190,190,190),1,cv.LINE_AA )\n",
    "h,w = img_original.shape[:2]\n",
    "img_selecao = img_original[5:h-25,:w-45].copy()\n",
    "img_selecao = cv.rotate(img_selecao,cv.ROTATE_90_CLOCKWISE)\n",
    "img_selecao = cv.resize(img_selecao,(768,1024))\n",
    "resultado = cv.vconcat([img_selecao,imgAssinatura])\n",
    "cv.imwrite('TiaraS2.jpg',resultado)\n",
    "#cv.namedWindow('Teste',cv.WINDOW_AUTOSIZE)\n",
    "#cv.imshow('Teste',resultado)\n",
    "#cv.waitKey()\n",
    "#cv.destroyAllWindows()"
   ]
  }
 ],
 "metadata": {
  "kernelspec": {
   "display_name": "Python 3",
   "language": "python",
   "name": "python3"
  },
  "language_info": {
   "codemirror_mode": {
    "name": "ipython",
    "version": 3
   },
   "file_extension": ".py",
   "mimetype": "text/x-python",
   "name": "python",
   "nbconvert_exporter": "python",
   "pygments_lexer": "ipython3",
   "version": "3.9.1"
  }
 },
 "nbformat": 4,
 "nbformat_minor": 5
}
